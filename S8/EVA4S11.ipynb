{
  "nbformat": 4,
  "nbformat_minor": 0,
  "metadata": {
    "colab": {
      "name": "EVA4S11.ipynb",
      "provenance": [],
      "collapsed_sections": [],
      "include_colab_link": true
    },
    "kernelspec": {
      "name": "python3",
      "display_name": "Python 3"
    },
    "accelerator": "GPU",
    "widgets": {
      "application/vnd.jupyter.widget-state+json": {
        "d23d3d72ce5840798052363ee27d7e48": {
          "model_module": "@jupyter-widgets/controls",
          "model_name": "HBoxModel",
          "state": {
            "_view_name": "HBoxView",
            "_dom_classes": [],
            "_model_name": "HBoxModel",
            "_view_module": "@jupyter-widgets/controls",
            "_model_module_version": "1.5.0",
            "_view_count": null,
            "_view_module_version": "1.5.0",
            "box_style": "",
            "layout": "IPY_MODEL_9cc5d09c123c41b28f445832cee2a732",
            "_model_module": "@jupyter-widgets/controls",
            "children": [
              "IPY_MODEL_45ba4d7d5a6c4d8e9d747233398e3148",
              "IPY_MODEL_ebf75690c471490894da2026359973d9"
            ]
          }
        },
        "9cc5d09c123c41b28f445832cee2a732": {
          "model_module": "@jupyter-widgets/base",
          "model_name": "LayoutModel",
          "state": {
            "_view_name": "LayoutView",
            "grid_template_rows": null,
            "right": null,
            "justify_content": null,
            "_view_module": "@jupyter-widgets/base",
            "overflow": null,
            "_model_module_version": "1.2.0",
            "_view_count": null,
            "flex_flow": null,
            "width": null,
            "min_width": null,
            "border": null,
            "align_items": null,
            "bottom": null,
            "_model_module": "@jupyter-widgets/base",
            "top": null,
            "grid_column": null,
            "overflow_y": null,
            "overflow_x": null,
            "grid_auto_flow": null,
            "grid_area": null,
            "grid_template_columns": null,
            "flex": null,
            "_model_name": "LayoutModel",
            "justify_items": null,
            "grid_row": null,
            "max_height": null,
            "align_content": null,
            "visibility": null,
            "align_self": null,
            "height": null,
            "min_height": null,
            "padding": null,
            "grid_auto_rows": null,
            "grid_gap": null,
            "max_width": null,
            "order": null,
            "_view_module_version": "1.2.0",
            "grid_template_areas": null,
            "object_position": null,
            "object_fit": null,
            "grid_auto_columns": null,
            "margin": null,
            "display": null,
            "left": null
          }
        },
        "45ba4d7d5a6c4d8e9d747233398e3148": {
          "model_module": "@jupyter-widgets/controls",
          "model_name": "IntProgressModel",
          "state": {
            "_view_name": "ProgressView",
            "style": "IPY_MODEL_8c00939e11af4453b1680fbfc5553a05",
            "_dom_classes": [],
            "description": "100%",
            "_model_name": "IntProgressModel",
            "bar_style": "success",
            "max": 5000,
            "_view_module": "@jupyter-widgets/controls",
            "_model_module_version": "1.5.0",
            "value": 5000,
            "_view_count": null,
            "_view_module_version": "1.5.0",
            "orientation": "horizontal",
            "min": 0,
            "description_tooltip": null,
            "_model_module": "@jupyter-widgets/controls",
            "layout": "IPY_MODEL_02baeacb67154c3698dd764e0e5dda42"
          }
        },
        "ebf75690c471490894da2026359973d9": {
          "model_module": "@jupyter-widgets/controls",
          "model_name": "HTMLModel",
          "state": {
            "_view_name": "HTMLView",
            "style": "IPY_MODEL_a07d5494fcdb45e2ac8d42e72319508b",
            "_dom_classes": [],
            "description": "",
            "_model_name": "HTMLModel",
            "placeholder": "​",
            "_view_module": "@jupyter-widgets/controls",
            "_model_module_version": "1.5.0",
            "value": " 5000/5000 [24:35&lt;00:00,  3.39it/s]",
            "_view_count": null,
            "_view_module_version": "1.5.0",
            "description_tooltip": null,
            "_model_module": "@jupyter-widgets/controls",
            "layout": "IPY_MODEL_d6f61745057248c695c518704c117773"
          }
        },
        "8c00939e11af4453b1680fbfc5553a05": {
          "model_module": "@jupyter-widgets/controls",
          "model_name": "ProgressStyleModel",
          "state": {
            "_view_name": "StyleView",
            "_model_name": "ProgressStyleModel",
            "description_width": "initial",
            "_view_module": "@jupyter-widgets/base",
            "_model_module_version": "1.5.0",
            "_view_count": null,
            "_view_module_version": "1.2.0",
            "bar_color": null,
            "_model_module": "@jupyter-widgets/controls"
          }
        },
        "02baeacb67154c3698dd764e0e5dda42": {
          "model_module": "@jupyter-widgets/base",
          "model_name": "LayoutModel",
          "state": {
            "_view_name": "LayoutView",
            "grid_template_rows": null,
            "right": null,
            "justify_content": null,
            "_view_module": "@jupyter-widgets/base",
            "overflow": null,
            "_model_module_version": "1.2.0",
            "_view_count": null,
            "flex_flow": null,
            "width": null,
            "min_width": null,
            "border": null,
            "align_items": null,
            "bottom": null,
            "_model_module": "@jupyter-widgets/base",
            "top": null,
            "grid_column": null,
            "overflow_y": null,
            "overflow_x": null,
            "grid_auto_flow": null,
            "grid_area": null,
            "grid_template_columns": null,
            "flex": null,
            "_model_name": "LayoutModel",
            "justify_items": null,
            "grid_row": null,
            "max_height": null,
            "align_content": null,
            "visibility": null,
            "align_self": null,
            "height": null,
            "min_height": null,
            "padding": null,
            "grid_auto_rows": null,
            "grid_gap": null,
            "max_width": null,
            "order": null,
            "_view_module_version": "1.2.0",
            "grid_template_areas": null,
            "object_position": null,
            "object_fit": null,
            "grid_auto_columns": null,
            "margin": null,
            "display": null,
            "left": null
          }
        },
        "a07d5494fcdb45e2ac8d42e72319508b": {
          "model_module": "@jupyter-widgets/controls",
          "model_name": "DescriptionStyleModel",
          "state": {
            "_view_name": "StyleView",
            "_model_name": "DescriptionStyleModel",
            "description_width": "",
            "_view_module": "@jupyter-widgets/base",
            "_model_module_version": "1.5.0",
            "_view_count": null,
            "_view_module_version": "1.2.0",
            "_model_module": "@jupyter-widgets/controls"
          }
        },
        "d6f61745057248c695c518704c117773": {
          "model_module": "@jupyter-widgets/base",
          "model_name": "LayoutModel",
          "state": {
            "_view_name": "LayoutView",
            "grid_template_rows": null,
            "right": null,
            "justify_content": null,
            "_view_module": "@jupyter-widgets/base",
            "overflow": null,
            "_model_module_version": "1.2.0",
            "_view_count": null,
            "flex_flow": null,
            "width": null,
            "min_width": null,
            "border": null,
            "align_items": null,
            "bottom": null,
            "_model_module": "@jupyter-widgets/base",
            "top": null,
            "grid_column": null,
            "overflow_y": null,
            "overflow_x": null,
            "grid_auto_flow": null,
            "grid_area": null,
            "grid_template_columns": null,
            "flex": null,
            "_model_name": "LayoutModel",
            "justify_items": null,
            "grid_row": null,
            "max_height": null,
            "align_content": null,
            "visibility": null,
            "align_self": null,
            "height": null,
            "min_height": null,
            "padding": null,
            "grid_auto_rows": null,
            "grid_gap": null,
            "max_width": null,
            "order": null,
            "_view_module_version": "1.2.0",
            "grid_template_areas": null,
            "object_position": null,
            "object_fit": null,
            "grid_auto_columns": null,
            "margin": null,
            "display": null,
            "left": null
          }
        }
      }
    }
  },
  "cells": [
    {
      "cell_type": "markdown",
      "metadata": {
        "id": "view-in-github",
        "colab_type": "text"
      },
      "source": [
        "<a href=\"https://colab.research.google.com/github/debgit/Deep-Learning/blob/master/S8/EVA4S11.ipynb\" target=\"_parent\"><img src=\"https://colab.research.google.com/assets/colab-badge.svg\" alt=\"Open In Colab\"/></a>"
      ]
    },
    {
      "cell_type": "code",
      "metadata": {
        "id": "S1XPwQbQiyJ3",
        "colab_type": "code",
        "outputId": "036c0341-9a44-4139-854f-3b76ced0270c",
        "colab": {
          "base_uri": "https://localhost:8080/",
          "height": 34
        }
      },
      "source": [
        "from google.colab import drive\n",
        "drive.mount('/content/gdrive')"
      ],
      "execution_count": 1,
      "outputs": [
        {
          "output_type": "stream",
          "text": [
            "Drive already mounted at /content/gdrive; to attempt to forcibly remount, call drive.mount(\"/content/gdrive\", force_remount=True).\n"
          ],
          "name": "stdout"
        }
      ]
    },
    {
      "cell_type": "code",
      "metadata": {
        "id": "kMQbgeYd8vE6",
        "colab_type": "code",
        "colab": {}
      },
      "source": [
        "import sys\n",
        "%load_ext autoreload\n",
        "%reload_ext autoreload\n",
        "%autoreload 2\n",
        "sys.path.append('/content/gdrive/My Drive/EVA4/model/')  #Path for model\n",
        "sys.path.append('/content/gdrive/My Drive/EVA4/modelutil/') #Path for Graph Plottinng, Training & Test/Evaluation Logic\n",
        "sys.path.append('/content/gdrive/My Drive/EVA4/data/') #Path for DataLoad\n",
        "sys.path.append('/content/gdrive/My Drive/EVA4/datautil/') #Path for DataTransformation "
      ],
      "execution_count": 0,
      "outputs": []
    },
    {
      "cell_type": "code",
      "metadata": {
        "id": "f_VtABZf_aYQ",
        "colab_type": "code",
        "outputId": "99a10277-f891-4e3f-ecd4-37b40fa462c2",
        "colab": {
          "base_uri": "https://localhost:8080/",
          "height": 67
        }
      },
      "source": [
        "from dataset import dataset\n",
        "data = dataset(batch_size_cuda= 512,batch_size_cpu=64,num_workers=4, epochs= 24)"
      ],
      "execution_count": 3,
      "outputs": [
        {
          "output_type": "stream",
          "text": [
            "Files already downloaded and verified\n",
            "Files already downloaded and verified\n",
            "Files already downloaded and verified\n"
          ],
          "name": "stdout"
        }
      ]
    },
    {
      "cell_type": "code",
      "metadata": {
        "id": "Ev1ewd6ZkNc6",
        "colab_type": "code",
        "outputId": "d28428ff-27b2-47c8-910f-64b8214501bb",
        "colab": {
          "base_uri": "https://localhost:8080/",
          "height": 756
        }
      },
      "source": [
        "from torchsummary import summary\n",
        "import resnet\n",
        "from resnet import ResNetA11\n",
        "from resnet_Asg11 import Net\n",
        "#model_old = resnet.ResNet18()\n",
        "model= ResNetA11()\n",
        "#model= Net()\n",
        "model.device = data.device\n",
        "model.to(model.device)\n",
        "summary(model, input_size=(3, 32, 32))"
      ],
      "execution_count": 4,
      "outputs": [
        {
          "output_type": "stream",
          "text": [
            "----------------------------------------------------------------\n",
            "        Layer (type)               Output Shape         Param #\n",
            "================================================================\n",
            "            Conv2d-1           [-1, 64, 32, 32]           1,728\n",
            "       BatchNorm2d-2           [-1, 64, 32, 32]             128\n",
            "              ReLU-3           [-1, 64, 32, 32]               0\n",
            "            Conv2d-4          [-1, 128, 32, 32]          73,728\n",
            "         MaxPool2d-5          [-1, 128, 16, 16]               0\n",
            "       BatchNorm2d-6          [-1, 128, 16, 16]             256\n",
            "              ReLU-7          [-1, 128, 16, 16]               0\n",
            "            Conv2d-8          [-1, 128, 16, 16]         147,456\n",
            "       BatchNorm2d-9          [-1, 128, 16, 16]             256\n",
            "             ReLU-10          [-1, 128, 16, 16]               0\n",
            "           Conv2d-11          [-1, 128, 16, 16]         147,456\n",
            "      BatchNorm2d-12          [-1, 128, 16, 16]             256\n",
            "             ReLU-13          [-1, 128, 16, 16]               0\n",
            " ModifiedResBlock-14          [-1, 128, 16, 16]               0\n",
            "           Conv2d-15          [-1, 256, 16, 16]         294,912\n",
            "        MaxPool2d-16            [-1, 256, 8, 8]               0\n",
            "      BatchNorm2d-17            [-1, 256, 8, 8]             512\n",
            "             ReLU-18            [-1, 256, 8, 8]               0\n",
            "           Conv2d-19            [-1, 512, 8, 8]       1,179,648\n",
            "        MaxPool2d-20            [-1, 512, 4, 4]               0\n",
            "      BatchNorm2d-21            [-1, 512, 4, 4]           1,024\n",
            "             ReLU-22            [-1, 512, 4, 4]               0\n",
            "           Conv2d-23            [-1, 512, 4, 4]       2,359,296\n",
            "      BatchNorm2d-24            [-1, 512, 4, 4]           1,024\n",
            "             ReLU-25            [-1, 512, 4, 4]               0\n",
            "           Conv2d-26            [-1, 512, 4, 4]       2,359,296\n",
            "      BatchNorm2d-27            [-1, 512, 4, 4]           1,024\n",
            "             ReLU-28            [-1, 512, 4, 4]               0\n",
            " ModifiedResBlock-29            [-1, 512, 4, 4]               0\n",
            "        MaxPool2d-30            [-1, 512, 1, 1]               0\n",
            "           Linear-31                   [-1, 10]           5,130\n",
            "================================================================\n",
            "Total params: 6,573,130\n",
            "Trainable params: 6,573,130\n",
            "Non-trainable params: 0\n",
            "----------------------------------------------------------------\n",
            "Input size (MB): 0.01\n",
            "Forward/backward pass size (MB): 6.75\n",
            "Params size (MB): 25.07\n",
            "Estimated Total Size (MB): 31.84\n",
            "----------------------------------------------------------------\n"
          ],
          "name": "stdout"
        }
      ]
    },
    {
      "cell_type": "code",
      "metadata": {
        "id": "cCms60j2DmxJ",
        "colab_type": "code",
        "colab": {
          "base_uri": "https://localhost:8080/",
          "height": 50
        },
        "outputId": "963c7873-ce3a-48b4-8d5c-5469e69513bd"
      },
      "source": [
        "from runlr import runlr\n",
        "import torch.nn as nn\n",
        "import torch.optim as optim"
      ],
      "execution_count": 5,
      "outputs": [
        {
          "output_type": "stream",
          "text": [
            "WARNING:LRFinder:To enable mixed precision training, please install `apex`. Or you can re-install this package by the following command:\n",
            "  pip install torch-lr-finder -v --global-option=\"amp\"\n"
          ],
          "name": "stderr"
        }
      ]
    },
    {
      "cell_type": "code",
      "metadata": {
        "id": "BOBYRrbmK_Ul",
        "colab_type": "code",
        "colab": {
          "base_uri": "https://localhost:8080/",
          "height": 366,
          "referenced_widgets": [
            "d23d3d72ce5840798052363ee27d7e48",
            "9cc5d09c123c41b28f445832cee2a732",
            "45ba4d7d5a6c4d8e9d747233398e3148",
            "ebf75690c471490894da2026359973d9",
            "8c00939e11af4453b1680fbfc5553a05",
            "02baeacb67154c3698dd764e0e5dda42",
            "a07d5494fcdb45e2ac8d42e72319508b",
            "d6f61745057248c695c518704c117773"
          ]
        },
        "outputId": "a832d8d2-a354-487b-c875-0d800224d397"
      },
      "source": [
        "from oclr import oclr\n",
        "oclrdata = oclr(L1lambda= 0 , L2lambda =1e-4 , lr=1e-7, momentum=0.9, nesterov=True,model= model, data = data) "
      ],
      "execution_count": 6,
      "outputs": [
        {
          "output_type": "display_data",
          "data": {
            "application/vnd.jupyter.widget-view+json": {
              "model_id": "d23d3d72ce5840798052363ee27d7e48",
              "version_minor": 0,
              "version_major": 2
            },
            "text/plain": [
              "HBox(children=(IntProgress(value=0, max=5000), HTML(value='')))"
            ]
          },
          "metadata": {
            "tags": []
          }
        },
        {
          "output_type": "stream",
          "text": [
            "\n",
            "Learning rate search finished. See the graph with {finder_name}.plot()\n",
            "Min loss:0.37708433734547936 Min LR:0.3367428920784385 Max LR:1.0007015575559284\n"
          ],
          "name": "stdout"
        },
        {
          "output_type": "display_data",
          "data": {
            "image/png": "[encoded data removed]",
            "text/plain": [
              "<Figure size 432x288 with 1 Axes>"
            ]
          },
          "metadata": {
            "tags": [],
            "needs_background": "light"
          }
        }
      ]
    },
    {
      "cell_type": "code",
      "metadata": {
        "id": "Tc_Z1-ZECOjG",
        "colab_type": "code",
        "colab": {
          "base_uri": "https://localhost:8080/",
          "height": 269
        },
        "outputId": "02039085-fb39-4e98-a3b0-eb2dfc832433"
      },
      "source": [
        "import matplotlib.pyplot as plt\n",
        "lrs = oclrdata.lr_finder.history['lr']\n",
        "acc = oclrdata.lr_finder.history['loss']\n",
        "plt.plot(lrs,acc)#,lrs)\n",
        "plt.xscale(\"log\")"
      ],
      "execution_count": 7,
      "outputs": [
        {
          "output_type": "display_data",
          "data": {
            "image/png": "[encoded data removed]",
            "text/plain": [
              "<Figure size 432x288 with 1 Axes>"
            ]
          },
          "metadata": {
            "tags": [],
            "needs_background": "light"
          }
        }
      ]
    },
    {
      "cell_type": "code",
      "metadata": {
        "id": "X0Qej7PcdDEQ",
        "colab_type": "code",
        "colab": {
          "base_uri": "https://localhost:8080/",
          "height": 621
        },
        "outputId": "5990356c-99f4-4013-9b16-0a9ac4ec37f3"
      },
      "source": [
        "  plt.figure(figsize=(15, 10))\n",
        "  ax = plt.subplot(111)\n",
        "  ax.plot(lrs)\n",
        "  ax.set(title=\"Learning Rate Graph\",  xlabel=\"Epoch\", ylabel=\"Learning Rate\")\n",
        "  ax.legend(['Learning Rate', 'Epoch'], loc='best')\n",
        "  plt.savefig(\"LearningRate.png\")\n",
        "  plt.show()"
      ],
      "execution_count": 8,
      "outputs": [
        {
          "output_type": "display_data",
          "data": {
            "image/png": "[encoded data removed]",
            "text/plain": [
              "<Figure size 1080x720 with 1 Axes>"
            ]
          },
          "metadata": {
            "tags": [],
            "needs_background": "light"
          }
        }
      ]
    },
    {
      "cell_type": "code",
      "metadata": {
        "id": "DcR-HTxHDIWe",
        "colab_type": "code",
        "colab": {
          "base_uri": "https://localhost:8080/",
          "height": 284
        },
        "outputId": "15d80210-20c8-47a9-8ba7-b2e93f32887c"
      },
      "source": [
        "import pandas as pd\n",
        "import numpy as np\n",
        "df_lrf = pd.DataFrame(oclrdata.lr_finder.history)\n",
        "df_lrf.describe()"
      ],
      "execution_count": 9,
      "outputs": [
        {
          "output_type": "execute_result",
          "data": {
            "text/html": [
              "<div>\n",
              "<style scoped>\n",
              "    .dataframe tbody tr th:only-of-type {\n",
              "        vertical-align: middle;\n",
              "    }\n",
              "\n",
              "    .dataframe tbody tr th {\n",
              "        vertical-align: top;\n",
              "    }\n",
              "\n",
              "    .dataframe thead th {\n",
              "        text-align: right;\n",
              "    }\n",
              "</style>\n",
              "<table border=\"1\" class=\"dataframe\">\n",
              "  <thead>\n",
              "    <tr style=\"text-align: right;\">\n",
              "      <th></th>\n",
              "      <th>lr</th>\n",
              "      <th>loss</th>\n",
              "    </tr>\n",
              "  </thead>\n",
              "  <tbody>\n",
              "    <tr>\n",
              "      <th>count</th>\n",
              "      <td>5000.000000</td>\n",
              "      <td>5000.000000</td>\n",
              "    </tr>\n",
              "    <tr>\n",
              "      <th>mean</th>\n",
              "      <td>0.276916</td>\n",
              "      <td>0.855776</td>\n",
              "    </tr>\n",
              "    <tr>\n",
              "      <th>std</th>\n",
              "      <td>0.257085</td>\n",
              "      <td>0.955577</td>\n",
              "    </tr>\n",
              "    <tr>\n",
              "      <th>min</th>\n",
              "      <td>0.030042</td>\n",
              "      <td>0.377084</td>\n",
              "    </tr>\n",
              "    <tr>\n",
              "      <th>25%</th>\n",
              "      <td>0.072173</td>\n",
              "      <td>0.427862</td>\n",
              "    </tr>\n",
              "    <tr>\n",
              "      <th>50%</th>\n",
              "      <td>0.173387</td>\n",
              "      <td>0.531702</td>\n",
              "    </tr>\n",
              "    <tr>\n",
              "      <th>75%</th>\n",
              "      <td>0.416544</td>\n",
              "      <td>0.897871</td>\n",
              "    </tr>\n",
              "    <tr>\n",
              "      <th>max</th>\n",
              "      <td>1.000702</td>\n",
              "      <td>11.138224</td>\n",
              "    </tr>\n",
              "  </tbody>\n",
              "</table>\n",
              "</div>"
            ],
            "text/plain": [
              "                lr         loss\n",
              "count  5000.000000  5000.000000\n",
              "mean      0.276916     0.855776\n",
              "std       0.257085     0.955577\n",
              "min       0.030042     0.377084\n",
              "25%       0.072173     0.427862\n",
              "50%       0.173387     0.531702\n",
              "75%       0.416544     0.897871\n",
              "max       1.000702    11.138224"
            ]
          },
          "metadata": {
            "tags": []
          },
          "execution_count": 9
        }
      ]
    },
    {
      "cell_type": "code",
      "metadata": {
        "id": "UcW4-IGQPuHh",
        "colab_type": "code",
        "outputId": "b20050b8-ba06-4a26-bb7c-0b04e5e49058",
        "colab": {
          "base_uri": "https://localhost:8080/",
          "height": 1000
        }
      },
      "source": [
        "from runmodel import runmodel\n",
        "modeldata = runmodel(optimizer=oclrdata.optimizer,scheduler=oclrdata.scheduler,L2lambda = 0.0000, lr=0.015084,momentum=0.85,nesterov=True,epoch=data.epochs, model= model, data = data) "
      ],
      "execution_count": 10,
      "outputs": [
        {
          "output_type": "stream",
          "text": [
            "\r  0%|          | 0/98 [00:00<?, ?it/s]"
          ],
          "name": "stderr"
        },
        {
          "output_type": "stream",
          "text": [
            "EPOCH: 0  -- - Learning Rate:  0.0017890624999999938\n"
          ],
          "name": "stdout"
        },
        {
          "output_type": "stream",
          "text": [
            "Loss=2.377 Accuracy=27.91: 100%|██████████| 98/98 [00:29<00:00,  3.32it/s]\n",
            "  0%|          | 0/98 [00:00<?, ?it/s]"
          ],
          "name": "stderr"
        },
        {
          "output_type": "stream",
          "text": [
            "Test set: Average loss: 0.0065, Accuracy: 2847/10000 (28.47%)\n",
            "\n",
            "EPOCH: 1  -- - Learning Rate:  0.023639332069149005\n"
          ],
          "name": "stdout"
        },
        {
          "output_type": "stream",
          "text": [
            "Loss=2.686 Accuracy=36.44: 100%|██████████| 98/98 [00:29<00:00,  3.32it/s]\n",
            "  0%|          | 0/98 [00:00<?, ?it/s]"
          ],
          "name": "stderr"
        },
        {
          "output_type": "stream",
          "text": [
            "Test set: Average loss: 0.0049, Accuracy: 3363/10000 (33.63%)\n",
            "\n",
            "EPOCH: 2  -- - Learning Rate:  0.08078501229998869\n"
          ],
          "name": "stdout"
        },
        {
          "output_type": "stream",
          "text": [
            "Loss=1.381 Accuracy=36.64: 100%|██████████| 98/98 [00:29<00:00,  3.35it/s]\n",
            "  0%|          | 0/98 [00:00<?, ?it/s]"
          ],
          "name": "stderr"
        },
        {
          "output_type": "stream",
          "text": [
            "Test set: Average loss: 0.0026, Accuracy: 5380/10000 (53.80%)\n",
            "\n",
            "EPOCH: 3  -- - Learning Rate:  0.15124391287201586\n"
          ],
          "name": "stdout"
        },
        {
          "output_type": "stream",
          "text": [
            "Loss=1.182 Accuracy=53.83: 100%|██████████| 98/98 [00:29<00:00,  3.32it/s]\n",
            "  0%|          | 0/98 [00:00<?, ?it/s]"
          ],
          "name": "stderr"
        },
        {
          "output_type": "stream",
          "text": [
            "Test set: Average loss: 0.0021, Accuracy: 6342/10000 (63.42%)\n",
            "\n",
            "EPOCH: 4  -- - Learning Rate:  0.20791265596399924\n"
          ],
          "name": "stdout"
        },
        {
          "output_type": "stream",
          "text": [
            "Loss=1.005 Accuracy=63.20: 100%|██████████| 98/98 [00:29<00:00,  3.34it/s]\n",
            "  0%|          | 0/98 [00:00<?, ?it/s]"
          ],
          "name": "stderr"
        },
        {
          "output_type": "stream",
          "text": [
            "Test set: Average loss: 0.0017, Accuracy: 7110/10000 (71.10%)\n",
            "\n",
            "EPOCH: 5  -- - Learning Rate:  0.2289994818129049\n"
          ],
          "name": "stdout"
        },
        {
          "output_type": "stream",
          "text": [
            "Loss=0.713 Accuracy=69.37: 100%|██████████| 98/98 [00:29<00:00,  3.32it/s]\n",
            "  0%|          | 0/98 [00:00<?, ?it/s]"
          ],
          "name": "stderr"
        },
        {
          "output_type": "stream",
          "text": [
            "Test set: Average loss: 0.0015, Accuracy: 7480/10000 (74.80%)\n",
            "\n",
            "EPOCH: 6  -- - Learning Rate:  0.22738268782989016\n"
          ],
          "name": "stdout"
        },
        {
          "output_type": "stream",
          "text": [
            "Loss=0.820 Accuracy=72.75: 100%|██████████| 98/98 [00:29<00:00,  3.33it/s]\n",
            "  0%|          | 0/98 [00:00<?, ?it/s]"
          ],
          "name": "stderr"
        },
        {
          "output_type": "stream",
          "text": [
            "Test set: Average loss: 0.0014, Accuracy: 7729/10000 (77.29%)\n",
            "\n",
            "EPOCH: 7  -- - Learning Rate:  0.22268971474976798\n"
          ],
          "name": "stdout"
        },
        {
          "output_type": "stream",
          "text": [
            "Loss=0.614 Accuracy=75.28: 100%|██████████| 98/98 [00:29<00:00,  3.34it/s]\n",
            "  0%|          | 0/98 [00:00<?, ?it/s]"
          ],
          "name": "stderr"
        },
        {
          "output_type": "stream",
          "text": [
            "Test set: Average loss: 0.0012, Accuracy: 8017/10000 (80.17%)\n",
            "\n",
            "EPOCH: 8  -- - Learning Rate:  0.2150484671582532\n"
          ],
          "name": "stdout"
        },
        {
          "output_type": "stream",
          "text": [
            "Loss=0.926 Accuracy=76.74: 100%|██████████| 98/98 [00:29<00:00,  3.36it/s]\n",
            "  0%|          | 0/98 [00:00<?, ?it/s]"
          ],
          "name": "stderr"
        },
        {
          "output_type": "stream",
          "text": [
            "Test set: Average loss: 0.0048, Accuracy: 3177/10000 (31.77%)\n",
            "\n",
            "EPOCH: 9  -- - Learning Rate:  0.20466720335788668\n"
          ],
          "name": "stdout"
        },
        {
          "output_type": "stream",
          "text": [
            "Loss=0.488 Accuracy=77.07: 100%|██████████| 98/98 [00:29<00:00,  3.38it/s]\n",
            "  0%|          | 0/98 [00:00<?, ?it/s]"
          ],
          "name": "stderr"
        },
        {
          "output_type": "stream",
          "text": [
            "Test set: Average loss: 0.0010, Accuracy: 8172/10000 (81.72%)\n",
            "\n",
            "EPOCH: 10  -- - Learning Rate:  0.1918288593943077\n"
          ],
          "name": "stdout"
        },
        {
          "output_type": "stream",
          "text": [
            "Loss=0.582 Accuracy=79.76: 100%|██████████| 98/98 [00:29<00:00,  3.33it/s]\n",
            "  0%|          | 0/98 [00:00<?, ?it/s]"
          ],
          "name": "stderr"
        },
        {
          "output_type": "stream",
          "text": [
            "Test set: Average loss: 0.0009, Accuracy: 8480/10000 (84.80%)\n",
            "\n",
            "EPOCH: 11  -- - Learning Rate:  0.1768833377787581\n"
          ],
          "name": "stdout"
        },
        {
          "output_type": "stream",
          "text": [
            "Loss=0.434 Accuracy=81.23: 100%|██████████| 98/98 [00:28<00:00,  3.39it/s]\n",
            "  0%|          | 0/98 [00:00<?, ?it/s]"
          ],
          "name": "stderr"
        },
        {
          "output_type": "stream",
          "text": [
            "Test set: Average loss: 0.0009, Accuracy: 8476/10000 (84.76%)\n",
            "\n",
            "EPOCH: 12  -- - Learning Rate:  0.1602379710737502\n"
          ],
          "name": "stdout"
        },
        {
          "output_type": "stream",
          "text": [
            "Loss=0.480 Accuracy=82.55: 100%|██████████| 98/98 [00:29<00:00,  3.31it/s]\n",
            "  0%|          | 0/98 [00:00<?, ?it/s]"
          ],
          "name": "stderr"
        },
        {
          "output_type": "stream",
          "text": [
            "Test set: Average loss: 0.0008, Accuracy: 8607/10000 (86.07%)\n",
            "\n",
            "EPOCH: 13  -- - Learning Rate:  0.14234642025200342\n"
          ],
          "name": "stdout"
        },
        {
          "output_type": "stream",
          "text": [
            "Loss=0.454 Accuracy=83.80: 100%|██████████| 98/98 [00:29<00:00,  3.37it/s]\n",
            "  0%|          | 0/98 [00:00<?, ?it/s]"
          ],
          "name": "stderr"
        },
        {
          "output_type": "stream",
          "text": [
            "Test set: Average loss: 0.0008, Accuracy: 8667/10000 (86.67%)\n",
            "\n",
            "EPOCH: 14  -- - Learning Rate:  0.12369631039820933\n"
          ],
          "name": "stdout"
        },
        {
          "output_type": "stream",
          "text": [
            "Loss=0.548 Accuracy=84.68: 100%|██████████| 98/98 [00:29<00:00,  3.31it/s]\n",
            "  0%|          | 0/98 [00:00<?, ?it/s]"
          ],
          "name": "stderr"
        },
        {
          "output_type": "stream",
          "text": [
            "Test set: Average loss: 0.0008, Accuracy: 8644/10000 (86.44%)\n",
            "\n",
            "EPOCH: 15  -- - Learning Rate:  0.10479594073626249\n"
          ],
          "name": "stdout"
        },
        {
          "output_type": "stream",
          "text": [
            "Loss=0.370 Accuracy=85.47: 100%|██████████| 98/98 [00:29<00:00,  3.37it/s]\n",
            "  0%|          | 0/98 [00:00<?, ?it/s]"
          ],
          "name": "stderr"
        },
        {
          "output_type": "stream",
          "text": [
            "Test set: Average loss: 0.0007, Accuracy: 8782/10000 (87.82%)\n",
            "\n",
            "EPOCH: 16  -- - Learning Rate:  0.0861604311933805\n"
          ],
          "name": "stdout"
        },
        {
          "output_type": "stream",
          "text": [
            "Loss=0.442 Accuracy=86.59: 100%|██████████| 98/98 [00:29<00:00,  3.36it/s]\n",
            "  0%|          | 0/98 [00:00<?, ?it/s]"
          ],
          "name": "stderr"
        },
        {
          "output_type": "stream",
          "text": [
            "Test set: Average loss: 0.0007, Accuracy: 8878/10000 (88.78%)\n",
            "\n",
            "EPOCH: 17  -- - Learning Rate:  0.0682976830694369\n"
          ],
          "name": "stdout"
        },
        {
          "output_type": "stream",
          "text": [
            "Loss=0.326 Accuracy=87.27: 100%|██████████| 98/98 [00:29<00:00,  3.30it/s]\n",
            "  0%|          | 0/98 [00:00<?, ?it/s]"
          ],
          "name": "stderr"
        },
        {
          "output_type": "stream",
          "text": [
            "Test set: Average loss: 0.0006, Accuracy: 8949/10000 (89.49%)\n",
            "\n",
            "EPOCH: 18  -- - Learning Rate:  0.0516945364462974\n"
          ],
          "name": "stdout"
        },
        {
          "output_type": "stream",
          "text": [
            "Loss=0.293 Accuracy=88.35: 100%|██████████| 98/98 [00:29<00:00,  3.27it/s]\n",
            "  0%|          | 0/98 [00:00<?, ?it/s]"
          ],
          "name": "stderr"
        },
        {
          "output_type": "stream",
          "text": [
            "Test set: Average loss: 0.0006, Accuracy: 8947/10000 (89.47%)\n",
            "\n",
            "EPOCH: 19  -- - Learning Rate:  0.03680350160990167\n"
          ],
          "name": "stdout"
        },
        {
          "output_type": "stream",
          "text": [
            "Loss=0.267 Accuracy=89.11: 100%|██████████| 98/98 [00:29<00:00,  3.31it/s]\n",
            "  0%|          | 0/98 [00:00<?, ?it/s]"
          ],
          "name": "stderr"
        },
        {
          "output_type": "stream",
          "text": [
            "Test set: Average loss: 0.0006, Accuracy: 9033/10000 (90.33%)\n",
            "\n",
            "EPOCH: 20  -- - Learning Rate:  0.02403042611340975\n"
          ],
          "name": "stdout"
        },
        {
          "output_type": "stream",
          "text": [
            "Loss=0.293 Accuracy=89.83: 100%|██████████| 98/98 [00:29<00:00,  3.33it/s]\n",
            "  0%|          | 0/98 [00:00<?, ?it/s]"
          ],
          "name": "stderr"
        },
        {
          "output_type": "stream",
          "text": [
            "Test set: Average loss: 0.0006, Accuracy: 9044/10000 (90.44%)\n",
            "\n",
            "EPOCH: 21  -- - Learning Rate:  0.013723433609310038\n"
          ],
          "name": "stdout"
        },
        {
          "output_type": "stream",
          "text": [
            "Loss=0.268 Accuracy=90.76: 100%|██████████| 98/98 [00:29<00:00,  3.33it/s]\n",
            "  0%|          | 0/98 [00:00<?, ?it/s]"
          ],
          "name": "stderr"
        },
        {
          "output_type": "stream",
          "text": [
            "Test set: Average loss: 0.0006, Accuracy: 9079/10000 (90.79%)\n",
            "\n",
            "EPOCH: 22  -- - Learning Rate:  0.006163435916974737\n"
          ],
          "name": "stdout"
        },
        {
          "output_type": "stream",
          "text": [
            "Loss=0.221 Accuracy=90.93: 100%|██████████| 98/98 [00:29<00:00,  3.30it/s]\n",
            "  0%|          | 0/98 [00:00<?, ?it/s]"
          ],
          "name": "stderr"
        },
        {
          "output_type": "stream",
          "text": [
            "Test set: Average loss: 0.0005, Accuracy: 9103/10000 (91.03%)\n",
            "\n",
            "EPOCH: 23  -- - Learning Rate:  0.001556476914417622\n"
          ],
          "name": "stdout"
        },
        {
          "output_type": "stream",
          "text": [
            "Loss=0.201 Accuracy=91.06: 100%|██████████| 98/98 [00:28<00:00,  3.41it/s]\n"
          ],
          "name": "stderr"
        },
        {
          "output_type": "stream",
          "text": [
            "Test set: Average loss: 0.0005, Accuracy: 9100/10000 (91.00%)\n",
            "\n"
          ],
          "name": "stdout"
        }
      ]
    },
    {
      "cell_type": "code",
      "metadata": {
        "id": "L0NXEhUGDPAQ",
        "colab_type": "code",
        "outputId": "d6fa5073-caee-455a-f38b-a41d3b27f420",
        "colab": {
          "base_uri": "https://localhost:8080/",
          "height": 50
        }
      },
      "source": [
        "print('Best Training Accuracy : ', max(modeldata.train_acc))\n",
        "print('Best Test Accuracy : ', max(modeldata.test_accs))"
      ],
      "execution_count": 11,
      "outputs": [
        {
          "output_type": "stream",
          "text": [
            "Best Training Accuracy :  91.062\n",
            "Best Test Accuracy :  91.03\n"
          ],
          "name": "stdout"
        }
      ]
    },
    {
      "cell_type": "code",
      "metadata": {
        "id": "29fbIAQvwJZH",
        "colab_type": "code",
        "colab": {
          "base_uri": "https://localhost:8080/",
          "height": 458
        },
        "outputId": "f7875cb2-72c3-491d-e1ea-b4168d4aea45"
      },
      "source": [
        "from graphplot import plot_misclassified_images, plot_graph, plot_acc_loss_graph\n",
        "plot_graph(modeldata.learning_rate_history, \"Learning Rate\")"
      ],
      "execution_count": 12,
      "outputs": [
        {
          "output_type": "display_data",
          "data": {
            "image/png": "[encoded data removed]",
            "text/plain": [
              "<Figure size 504x504 with 1 Axes>"
            ]
          },
          "metadata": {
            "tags": [],
            "needs_background": "light"
          }
        }
      ]
    },
    {
      "cell_type": "code",
      "metadata": {
        "id": "AvzNGncYhxD_",
        "colab_type": "code",
        "outputId": "8fc5e4e3-3163-4b53-9781-052b2b0bd851",
        "colab": {
          "base_uri": "https://localhost:8080/",
          "height": 621
        }
      },
      "source": [
        "plot_acc_loss_graph(modeldata.test_accs,modeldata.train_acc )"
      ],
      "execution_count": 13,
      "outputs": [
        {
          "output_type": "display_data",
          "data": {
            "image/png": "[encoded data removed]",
            "text/plain": [
              "<Figure size 1080x720 with 1 Axes>"
            ]
          },
          "metadata": {
            "tags": [],
            "needs_background": "light"
          }
        }
      ]
    },
    {
      "cell_type": "code",
      "metadata": {
        "id": "pnF2hw6B2cED",
        "colab_type": "code",
        "outputId": "eefabd40-cd84-40b1-876f-4966cf5fe5f2",
        "colab": {
          "base_uri": "https://localhost:8080/",
          "height": 458
        }
      },
      "source": [
        "plot_graph(modeldata.test_losses, \"Loss\")"
      ],
      "execution_count": 14,
      "outputs": [
        {
          "output_type": "display_data",
          "data": {
            "image/png": "[encoded data removed]",
            "text/plain": [
              "<Figure size 504x504 with 1 Axes>"
            ]
          },
          "metadata": {
            "tags": [],
            "needs_background": "light"
          }
        }
      ]
    }
  ]
}